{
 "cells": [
  {
   "cell_type": "markdown",
   "id": "d8bba665",
   "metadata": {},
   "source": [
    "<img src=\"https://www.sturgischarterschool.com/wp-content/uploads/2019/06/sturgisheader_logo.png\" alt=\"sturgis\" width=\"250\" align=\"right\"/>\n",
    "\n",
    "## Computer Science 'Buttery Popcorn' notebook 5\n",
    "### Sturgis Charter Public School \n",
    "\n"
   ]
  },
  {
   "cell_type": "markdown",
   "id": "681696fb",
   "metadata": {},
   "source": [
    "Student: [your name here]\n",
    "\n",
    "Collaborators: [N/A]\n",
    "\n",
    "Notes to the teacher: [N/A]"
   ]
  },
  {
   "cell_type": "markdown",
   "id": "16bf0839",
   "metadata": {},
   "source": [
    "### Learning Objectives for notebook \n",
    "\n",
    "This notebook is a little different. Instead of me giving you assert checks, I'm going to give you a bit of space to try and implement what you have learned so far. Your goal is to build **one** of the following things. \n",
    "\n",
    "* Calculator\n",
    "* Text encoder/decoder (for example, to keep things simple: Pig Latin) \n",
    "* Tic-Tac-Toe Game\n",
    "* Suggest something else!\n",
    "\n",
    "For whichever solution you design. It should work within the jupyter notebook. You are welcome to explore this with a little freedom, and encouraged to partner up in groups of 2-4. Be careful! Make sure that each member of the group is equally contributing to the solution. \n",
    "\n",
    "Before you create your solution, you need to plan out your algorithm. Use the following [flowchart symbols](flowchart.jpg) to map out how your program will execute. \n",
    "\n",
    "After you create your solution, you need to document your solution. Write roughly 1 paragraph or 4 bullet points per documentation component. \n",
    "* A record of the steps you took and/or the techniques you used to complete your program\n",
    "* An evaluation of the success of your product\n",
    "* A description of what you would do to improve your product and/or next steps\n",
    "\n",
    "And that's it. Have fun!\n",
    "\n",
    "\n"
   ]
  },
  {
   "cell_type": "code",
   "execution_count": null,
   "id": "7c074bfd",
   "metadata": {},
   "outputs": [],
   "source": [
    "# Feel free to use as many cells as necessary\n",
    "# Make sure your code is 'clean', which is to say easy to read\n",
    "# Erase the line below and get coding!\n",
    "raise NotImplementedError()"
   ]
  }
 ],
 "metadata": {
  "kernelspec": {
   "display_name": "Python 3 (ipykernel)",
   "language": "python",
   "name": "python3"
  },
  "language_info": {
   "codemirror_mode": {
    "name": "ipython",
    "version": 3
   },
   "file_extension": ".py",
   "mimetype": "text/x-python",
   "name": "python",
   "nbconvert_exporter": "python",
   "pygments_lexer": "ipython3",
   "version": "3.9.7"
  }
 },
 "nbformat": 4,
 "nbformat_minor": 5
}
